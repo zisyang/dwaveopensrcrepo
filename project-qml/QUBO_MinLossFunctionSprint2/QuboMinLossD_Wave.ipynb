{
  "nbformat": 4,
  "nbformat_minor": 0,
  "metadata": {
    "colab": {
      "provenance": []
    },
    "kernelspec": {
      "name": "python3",
      "display_name": "Python 3"
    },
    "language_info": {
      "name": "python"
    }
  },
  "cells": [
    {
      "cell_type": "code",
      "execution_count": 1,
      "metadata": {
        "colab": {
          "base_uri": "https://localhost:8080/"
        },
        "id": "LsFCVupZaqHp",
        "outputId": "f6cd7964-bcf1-4ce8-c26f-82d8dec1fdf8"
      },
      "outputs": [
        {
          "output_type": "stream",
          "name": "stdout",
          "text": [
            "Looking in indexes: https://pypi.org/simple, https://us-python.pkg.dev/colab-wheels/public/simple/\n",
            "Collecting dwave-ocean-sdk\n",
            "  Downloading dwave_ocean_sdk-5.5.0-py3-none-any.whl (8.4 kB)\n",
            "Collecting dwavebinarycsp==0.2.0\n",
            "  Downloading dwavebinarycsp-0.2.0-py3-none-any.whl (35 kB)\n",
            "Collecting dwave-neal==0.5.9\n",
            "  Downloading dwave_neal-0.5.9-cp37-cp37m-manylinux_2_5_x86_64.manylinux1_x86_64.manylinux_2_12_x86_64.manylinux2010_x86_64.whl (497 kB)\n",
            "\u001b[K     |████████████████████████████████| 497 kB 8.1 MB/s \n",
            "\u001b[?25hCollecting dwave-preprocessing==0.4.0\n",
            "  Downloading dwave_preprocessing-0.4.0-cp37-cp37m-manylinux_2_12_x86_64.manylinux2010_x86_64.whl (966 kB)\n",
            "\u001b[K     |████████████████████████████████| 966 kB 45.2 MB/s \n",
            "\u001b[?25hCollecting dwave-greedy==0.2.5\n",
            "  Downloading dwave_greedy-0.2.5-cp37-cp37m-manylinux_2_17_x86_64.manylinux2014_x86_64.whl (658 kB)\n",
            "\u001b[K     |████████████████████████████████| 658 kB 45.3 MB/s \n",
            "\u001b[?25hCollecting penaltymodel==1.0.2\n",
            "  Downloading penaltymodel-1.0.2-py3-none-any.whl (36 kB)\n",
            "Collecting dwave-cloud-client==0.10.2\n",
            "  Downloading dwave_cloud_client-0.10.2-py3-none-any.whl (110 kB)\n",
            "\u001b[K     |████████████████████████████████| 110 kB 44.8 MB/s \n",
            "\u001b[?25hCollecting dwave-networkx==0.8.12\n",
            "  Downloading dwave_networkx-0.8.12-py3-none-any.whl (97 kB)\n",
            "\u001b[K     |████████████████████████████████| 97 kB 5.7 MB/s \n",
            "\u001b[?25hCollecting dimod==0.11.6\n",
            "  Downloading dimod-0.11.6-cp37-cp37m-manylinux_2_12_x86_64.manylinux2010_x86_64.whl (11.8 MB)\n",
            "\u001b[K     |████████████████████████████████| 11.8 MB 41.9 MB/s \n",
            "\u001b[?25hCollecting dwave-system==1.15.0\n",
            "  Downloading dwave_system-1.15.0-py3-none-any.whl (90 kB)\n",
            "\u001b[K     |████████████████████████████████| 90 kB 8.4 MB/s \n",
            "\u001b[?25hCollecting dwave-tabu==0.4.5\n",
            "  Downloading dwave_tabu-0.4.5-cp37-cp37m-manylinux_2_17_x86_64.manylinux2014_x86_64.whl (700 kB)\n",
            "\u001b[K     |████████████████████████████████| 700 kB 67.8 MB/s \n",
            "\u001b[?25hCollecting minorminer==0.2.9\n",
            "  Downloading minorminer-0.2.9-cp37-cp37m-manylinux_2_12_x86_64.manylinux2010_x86_64.whl (5.3 MB)\n",
            "\u001b[K     |████████████████████████████████| 5.3 MB 36.6 MB/s \n",
            "\u001b[?25hCollecting dwave-hybrid==0.6.9\n",
            "  Downloading dwave_hybrid-0.6.9-py3-none-any.whl (74 kB)\n",
            "\u001b[K     |████████████████████████████████| 74 kB 2.9 MB/s \n",
            "\u001b[?25hCollecting dwave-inspector==0.3.0\n",
            "  Downloading dwave_inspector-0.3.0-py3-none-any.whl (26 kB)\n",
            "Requirement already satisfied: numpy<2.0.0,>=1.17.3 in /usr/local/lib/python3.7/dist-packages (from dimod==0.11.6->dwave-ocean-sdk) (1.21.6)\n",
            "Requirement already satisfied: requests[socks]>=2.18 in /usr/local/lib/python3.7/dist-packages (from dwave-cloud-client==0.10.2->dwave-ocean-sdk) (2.23.0)\n",
            "Requirement already satisfied: pydantic>=1.7.3 in /usr/local/lib/python3.7/dist-packages (from dwave-cloud-client==0.10.2->dwave-ocean-sdk) (1.10.2)\n",
            "Requirement already satisfied: python-dateutil>=2.7 in /usr/local/lib/python3.7/dist-packages (from dwave-cloud-client==0.10.2->dwave-ocean-sdk) (2.8.2)\n",
            "Requirement already satisfied: click>=7.0 in /usr/local/lib/python3.7/dist-packages (from dwave-cloud-client==0.10.2->dwave-ocean-sdk) (7.1.2)\n",
            "Collecting diskcache>=5.2.1\n",
            "  Downloading diskcache-5.4.0-py3-none-any.whl (44 kB)\n",
            "\u001b[K     |████████████████████████████████| 44 kB 1.4 MB/s \n",
            "\u001b[?25hCollecting homebase>=1.0\n",
            "  Downloading homebase-1.0.1-py2.py3-none-any.whl (11 kB)\n",
            "Collecting plucky>=0.4.3\n",
            "  Downloading plucky-0.4.3-py2.py3-none-any.whl (10 kB)\n",
            "Requirement already satisfied: importlib-metadata>=1.0 in /usr/local/lib/python3.7/dist-packages (from dwave-greedy==0.2.5->dwave-ocean-sdk) (4.13.0)\n",
            "Requirement already satisfied: networkx in /usr/local/lib/python3.7/dist-packages (from dwave-hybrid==0.6.9->dwave-ocean-sdk) (2.6.3)\n",
            "Requirement already satisfied: Flask>=1.1.1 in /usr/local/lib/python3.7/dist-packages (from dwave-inspector==0.3.0->dwave-ocean-sdk) (1.1.4)\n",
            "Requirement already satisfied: importlib-resources>=3.2.0 in /usr/local/lib/python3.7/dist-packages (from dwave-inspector==0.3.0->dwave-ocean-sdk) (5.10.0)\n",
            "Collecting rectangle-packer>=2.0.1\n",
            "  Downloading rectangle_packer-2.0.1-cp37-cp37m-manylinux2010_x86_64.whl (246 kB)\n",
            "\u001b[K     |████████████████████████████████| 246 kB 73.3 MB/s \n",
            "\u001b[?25hRequirement already satisfied: scipy in /usr/local/lib/python3.7/dist-packages (from minorminer==0.2.9->dwave-ocean-sdk) (1.7.3)\n",
            "Collecting fasteners\n",
            "  Downloading fasteners-0.18-py3-none-any.whl (18 kB)\n",
            "Requirement already satisfied: itsdangerous<2.0,>=0.24 in /usr/local/lib/python3.7/dist-packages (from Flask>=1.1.1->dwave-inspector==0.3.0->dwave-ocean-sdk) (1.1.0)\n",
            "Requirement already satisfied: Jinja2<3.0,>=2.10.1 in /usr/local/lib/python3.7/dist-packages (from Flask>=1.1.1->dwave-inspector==0.3.0->dwave-ocean-sdk) (2.11.3)\n",
            "Requirement already satisfied: Werkzeug<2.0,>=0.15 in /usr/local/lib/python3.7/dist-packages (from Flask>=1.1.1->dwave-inspector==0.3.0->dwave-ocean-sdk) (1.0.1)\n",
            "Requirement already satisfied: typing-extensions>=3.6.4 in /usr/local/lib/python3.7/dist-packages (from importlib-metadata>=1.0->dwave-greedy==0.2.5->dwave-ocean-sdk) (4.1.1)\n",
            "Requirement already satisfied: zipp>=0.5 in /usr/local/lib/python3.7/dist-packages (from importlib-metadata>=1.0->dwave-greedy==0.2.5->dwave-ocean-sdk) (3.9.0)\n",
            "Requirement already satisfied: MarkupSafe>=0.23 in /usr/local/lib/python3.7/dist-packages (from Jinja2<3.0,>=2.10.1->Flask>=1.1.1->dwave-inspector==0.3.0->dwave-ocean-sdk) (2.0.1)\n",
            "Requirement already satisfied: six>=1.5 in /usr/local/lib/python3.7/dist-packages (from python-dateutil>=2.7->dwave-cloud-client==0.10.2->dwave-ocean-sdk) (1.15.0)\n",
            "Requirement already satisfied: idna<3,>=2.5 in /usr/local/lib/python3.7/dist-packages (from requests[socks]>=2.18->dwave-cloud-client==0.10.2->dwave-ocean-sdk) (2.10)\n",
            "Requirement already satisfied: certifi>=2017.4.17 in /usr/local/lib/python3.7/dist-packages (from requests[socks]>=2.18->dwave-cloud-client==0.10.2->dwave-ocean-sdk) (2022.9.24)\n",
            "Requirement already satisfied: urllib3!=1.25.0,!=1.25.1,<1.26,>=1.21.1 in /usr/local/lib/python3.7/dist-packages (from requests[socks]>=2.18->dwave-cloud-client==0.10.2->dwave-ocean-sdk) (1.24.3)\n",
            "Requirement already satisfied: chardet<4,>=3.0.2 in /usr/local/lib/python3.7/dist-packages (from requests[socks]>=2.18->dwave-cloud-client==0.10.2->dwave-ocean-sdk) (3.0.4)\n",
            "Requirement already satisfied: PySocks!=1.5.7,>=1.5.6 in /usr/local/lib/python3.7/dist-packages (from requests[socks]>=2.18->dwave-cloud-client==0.10.2->dwave-ocean-sdk) (1.7.1)\n",
            "Installing collected packages: dimod, rectangle-packer, plucky, homebase, fasteners, dwave-networkx, diskcache, minorminer, dwave-tabu, dwave-preprocessing, dwave-cloud-client, penaltymodel, dwave-system, dwave-neal, dwave-greedy, dwavebinarycsp, dwave-inspector, dwave-hybrid, dwave-ocean-sdk\n",
            "Successfully installed dimod-0.11.6 diskcache-5.4.0 dwave-cloud-client-0.10.2 dwave-greedy-0.2.5 dwave-hybrid-0.6.9 dwave-inspector-0.3.0 dwave-neal-0.5.9 dwave-networkx-0.8.12 dwave-ocean-sdk-5.5.0 dwave-preprocessing-0.4.0 dwave-system-1.15.0 dwave-tabu-0.4.5 dwavebinarycsp-0.2.0 fasteners-0.18 homebase-1.0.1 minorminer-0.2.9 penaltymodel-1.0.2 plucky-0.4.3 rectangle-packer-2.0.1\n"
          ]
        }
      ],
      "source": [
        "!pip install dwave-ocean-sdk"
      ]
    },
    {
      "cell_type": "code",
      "source": [
        "!git clone https://github.com/dwavesystems/dwave-ocean-sdk.git\n",
        "!cd dwave-ocean-sdk\n",
        "!python setup.py install"
      ],
      "metadata": {
        "colab": {
          "base_uri": "https://localhost:8080/"
        },
        "id": "04CMzjRpa--O",
        "outputId": "905bef04-9455-457e-e78b-ea4d5b987732"
      },
      "execution_count": 2,
      "outputs": [
        {
          "output_type": "stream",
          "name": "stdout",
          "text": [
            "Cloning into 'dwave-ocean-sdk'...\n",
            "remote: Enumerating objects: 4140, done.\u001b[K\n",
            "remote: Counting objects: 100% (1156/1156), done.\u001b[K\n",
            "remote: Compressing objects: 100% (298/298), done.\u001b[K\n",
            "remote: Total 4140 (delta 908), reused 986 (delta 848), pack-reused 2984\u001b[K\n",
            "Receiving objects: 100% (4140/4140), 13.15 MiB | 32.53 MiB/s, done.\n",
            "Resolving deltas: 100% (2658/2658), done.\n",
            "python3: can't open file 'setup.py': [Errno 2] No such file or directory\n"
          ]
        }
      ]
    },
    {
      "cell_type": "code",
      "source": [
        "# set integers C\n",
        "C = [2, 10, 3, 8, 5, 7, 9, 5, 3, 2]\n",
        "N = len(C)"
      ],
      "metadata": {
        "id": "XVAPjg8_bBnH"
      },
      "execution_count": 3,
      "outputs": []
    },
    {
      "cell_type": "code",
      "source": [
        "# set the above Q_{ii} & Q_{ij} as a dictionary type such as {(i, j): Q_{ij}}\n",
        "Q = {}\n",
        "for i in range(N):\n",
        "    Q[i, i] = 4 * C[i] * (C[i] - sum(C))\n",
        "    for j in range(i + 1, N):\n",
        "        Q[i, j] = 8 * C[i] * C[j]"
      ],
      "metadata": {
        "id": "CxRaRtogbD_T"
      },
      "execution_count": 4,
      "outputs": []
    },
    {
      "cell_type": "code",
      "source": [
        "import numpy as np\n",
        "import matplotlib.cm as cm\n",
        "import matplotlib.pyplot as plt\n",
        "%matplotlib inline"
      ],
      "metadata": {
        "id": "XsIAJgnrbGUJ"
      },
      "execution_count": 5,
      "outputs": []
    },
    {
      "cell_type": "code",
      "source": [
        "def show_qubo(qubo, cmap=cm.GnBu, save_path=None):\n",
        "    n_qubo = max(sorted(qubo.keys())[-1][0], sorted(qubo.keys(), key=lambda x: x[1])[-1][1]) + 1\n",
        "\n",
        "    np_qubo = np.zeros((n_qubo, n_qubo))\n",
        "    for (pos_x, pos_y), coeff in qubo.items():\n",
        "        np_qubo[pos_x][pos_y] = coeff\n",
        "\n",
        "    plt.imshow(np_qubo, cmap=cmap)\n",
        "    plt.colorbar()\n",
        "    if save_path is not None:\n",
        "        plt.savefig(save_path)\n",
        "    plt.show()"
      ],
      "metadata": {
        "id": "P-9zh3jUbIQX"
      },
      "execution_count": 6,
      "outputs": []
    },
    {
      "cell_type": "code",
      "source": [
        "show_qubo(Q)"
      ],
      "metadata": {
        "colab": {
          "base_uri": "https://localhost:8080/",
          "height": 265
        },
        "id": "TbLMn1WQbKP7",
        "outputId": "ae852d65-c0b9-4a20-9910-66c81982a5b6"
      },
      "execution_count": 7,
      "outputs": [
        {
          "output_type": "display_data",
          "data": {
            "text/plain": [
              "<Figure size 432x288 with 2 Axes>"
            ],
            "image/png": "[encoded data removed]"
          },
          "metadata": {
            "needs_background": "light"
          }
        }
      ]
    },
    {
      "cell_type": "code",
      "source": [
        "# set h_i & J_ij\n",
        "h = {}\n",
        "J = {}\n",
        "for i in range(N):\n",
        "    h[i] = 0\n",
        "    for j in range(i + 1, N):\n",
        "        J[i, j] = 2 * C[i] * C[j]"
      ],
      "metadata": {
        "id": "XwvQEm11bMSC"
      },
      "execution_count": 8,
      "outputs": []
    },
    {
      "cell_type": "code",
      "source": [
        "import dimod"
      ],
      "metadata": {
        "id": "P-FOtF--bOhh"
      },
      "execution_count": 9,
      "outputs": []
    },
    {
      "cell_type": "code",
      "source": [
        "# convert from ising model to QUBO\n",
        "model = dimod.BinaryQuadraticModel(h, J, 0.0, vartype='SPIN')\n",
        "qubo, offset = model.to_qubo()"
      ],
      "metadata": {
        "id": "POpwTuYJbQvF"
      },
      "execution_count": 10,
      "outputs": []
    },
    {
      "cell_type": "code",
      "source": [
        "show_qubo(qubo)"
      ],
      "metadata": {
        "colab": {
          "base_uri": "https://localhost:8080/",
          "height": 265
        },
        "id": "83Y5S9FVbSjH",
        "outputId": "d10ef87d-bc40-49c7-8927-d97cd116fc10"
      },
      "execution_count": 11,
      "outputs": [
        {
          "output_type": "display_data",
          "data": {
            "text/plain": [
              "<Figure size 432x288 with 2 Axes>"
            ],
            "image/png": "[encoded data removed]"
          },
          "metadata": {
            "needs_background": "light"
          }
        }
      ]
    },
    {
      "cell_type": "markdown",
      "source": [
        "# D-Wave "
      ],
      "metadata": {
        "id": "Bh3U66J0226a"
      }
    },
    {
      "cell_type": "code",
      "source": [
        "from dwave.system.samplers import DWaveSampler\n",
        "from dwave.system.composites import EmbeddingComposite"
      ],
      "metadata": {
        "id": "bh5-65cQ249B"
      },
      "execution_count": 14,
      "outputs": []
    },
    {
      "cell_type": "code",
      "source": [
        "# set the connection information as an option\n",
        "endpoint = 'https://cloud.dwavesys.com/sapi'\n",
        "token = 'DEV-'\n",
        "solver = 'DW_2000Q_6'\n",
        "\n",
        "# use DWaveSampler\n",
        "dw = DWaveSampler(endpoint=endpoint, token=token, solver=solver)\n",
        "# embed to Chimera graph\n",
        "sampler = EmbeddingComposite(dw)"
      ],
      "metadata": {
        "id": "UTHTiySw3Fw1"
      },
      "execution_count": 16,
      "outputs": []
    },
    {
      "cell_type": "code",
      "source": [
        "# in the case of ising model, use the following\n",
        "response = sampler.sample_ising(h, J, num_reads=100)\n",
        "\n",
        "# in the case of QUBO, use the following\n",
        "# response = sampler.sample_qubo(Q, num_reads=100)"
      ],
      "metadata": {
        "id": "ANrWBQGA36gM"
      },
      "execution_count": 17,
      "outputs": []
    },
    {
      "cell_type": "code",
      "source": [
        "response.record"
      ],
      "metadata": {
        "colab": {
          "base_uri": "https://localhost:8080/"
        },
        "id": "zXz9h4EY39Ac",
        "outputId": "5a9802e7-e21f-44a4-c941-8696500dd4d7"
      },
      "execution_count": 18,
      "outputs": [
        {
          "output_type": "execute_result",
          "data": {
            "text/plain": [
              "rec.array([([ 1,  1, -1, -1,  1, -1, -1,  1,  1, -1], -354., 2, 0.1),\n",
              "           ([ 1, -1,  1,  1, -1,  1,  1, -1, -1,  1], -306., 1, 0.1),\n",
              "           ([-1, -1,  1, -1, -1,  1,  1,  1, -1,  1], -366., 3, 0.1),\n",
              "           ([ 1,  1, -1, -1,  1, -1, -1,  1, -1, -1], -270., 1, 0.1),\n",
              "           ([-1, -1,  1, -1, -1,  1,  1,  1, -1, -1], -334., 1, 0.1),\n",
              "           ([ 1, -1, -1,  1,  1, -1,  1, -1,  1, -1], -370., 1, 0. ),\n",
              "           ([-1, -1, -1,  1,  1, -1,  1,  1, -1, -1], -370., 1, 0. ),\n",
              "           ([-1,  1, -1, -1, -1, -1,  1,  1,  1, -1], -370., 1, 0. ),\n",
              "           ([-1,  1,  1, -1,  1,  1, -1, -1, -1,  1], -370., 1, 0. ),\n",
              "           ([-1, -1, -1,  1, -1, -1,  1,  1,  1,  1], -370., 1, 0. ),\n",
              "           ([ 1, -1,  1,  1, -1, -1,  1,  1, -1, -1], -370., 1, 0. ),\n",
              "           ([ 1, -1, -1,  1, -1, -1,  1,  1,  1, -1], -370., 1, 0. ),\n",
              "           ([-1, -1, -1,  1, -1,  1,  1, -1,  1, -1], -370., 1, 0. ),\n",
              "           ([ 1,  1, -1, -1,  1,  1, -1, -1,  1, -1], -370., 1, 0. ),\n",
              "           ([ 1,  1, -1,  1,  1, -1, -1, -1, -1,  1], -370., 1, 0. ),\n",
              "           ([-1,  1,  1,  1, -1,  1, -1, -1, -1, -1], -366., 1, 0. ),\n",
              "           ([ 1, -1, -1,  1,  1, -1,  1, -1, -1,  1], -366., 1, 0. ),\n",
              "           ([-1, -1,  1,  1,  1, -1, -1,  1,  1,  1], -366., 1, 0. ),\n",
              "           ([ 1,  1,  1,  1, -1, -1, -1, -1,  1,  1], -366., 2, 0. ),\n",
              "           ([ 1,  1, -1, -1, -1, -1,  1,  1, -1, -1], -366., 1, 0. ),\n",
              "           ([-1,  1,  1,  1,  1, -1, -1, -1, -1, -1], -366., 1, 0. ),\n",
              "           ([ 1, -1,  1, -1, -1,  1,  1,  1, -1, -1], -366., 2, 0. ),\n",
              "           ([ 1, -1, -1,  1, -1, -1,  1,  1, -1,  1], -366., 2, 0. ),\n",
              "           ([ 1, -1, -1,  1, -1,  1,  1, -1, -1,  1], -366., 1, 0. ),\n",
              "           ([ 1,  1,  1,  1,  1, -1, -1, -1, -1, -1], -366., 1, 0. ),\n",
              "           ([-1,  1,  1,  1,  1, -1, -1, -1, -1,  1], -366., 1, 0. ),\n",
              "           ([-1, -1,  1,  1, -1, -1,  1,  1,  1, -1], -366., 2, 0. ),\n",
              "           ([-1,  1, -1,  1,  1, -1, -1,  1, -1, -1], -366., 2, 0. ),\n",
              "           ([ 1, -1, -1, -1, -1,  1,  1,  1,  1, -1], -366., 1, 0. ),\n",
              "           ([-1,  1, -1,  1, -1,  1,  1,  1, -1, -1],  206., 2, 0.1),\n",
              "           ([ 1,  1,  1, -1, -1, -1, -1,  1,  1,  1], -354., 1, 0. ),\n",
              "           ([-1,  1, -1,  1, -1, -1,  1, -1, -1,  1], -354., 1, 0. ),\n",
              "           ([ 1,  1,  1, -1, -1, -1,  1, -1,  1,  1], -354., 2, 0. ),\n",
              "           ([-1,  1, -1,  1, -1, -1, -1,  1, -1,  1], -354., 1, 0. ),\n",
              "           ([ 1, -1, -1,  1,  1, -1,  1,  1, -1, -1], -354., 1, 0. ),\n",
              "           ([-1,  1, -1, -1,  1, -1,  1, -1,  1,  1], -354., 1, 0. ),\n",
              "           ([-1,  1,  1, -1, -1, -1,  1, -1,  1, -1], -354., 1, 0. ),\n",
              "           ([ 1,  1, -1,  1, -1, -1, -1, -1,  1,  1], -354., 1, 0. ),\n",
              "           ([ 1, -1,  1, -1, -1,  1,  1,  1,  1, -1], -354., 1, 0. ),\n",
              "           ([-1,  1,  1, -1,  1, -1, -1,  1, -1,  1], -354., 1, 0. ),\n",
              "           ([-1,  1, -1, -1,  1,  1, -1, -1,  1, -1], -354., 1, 0. ),\n",
              "           ([-1,  1,  1,  1,  1, -1, -1, -1,  1, -1], -354., 1, 0. ),\n",
              "           ([-1,  1, -1, -1,  1,  1, -1,  1, -1,  1], -354., 1, 0. ),\n",
              "           ([ 1,  1, -1,  1,  1, -1, -1, -1, -1, -1], -354., 1, 0. ),\n",
              "           ([-1, -1, -1,  1, -1,  1,  1,  1, -1, -1], -354., 1, 0. ),\n",
              "           ([ 1,  1,  1, -1,  1, -1, -1, -1,  1,  1], -354., 1, 0. ),\n",
              "           ([-1, -1,  1,  1, -1, -1,  1,  1, -1, -1], -354., 2, 0. ),\n",
              "           ([-1, -1, -1, -1, -1,  1,  1,  1, -1,  1], -306., 3, 0.1),\n",
              "           ([ 1,  1,  1,  1,  1, -1, -1, -1,  1, -1], -306., 1, 0.1),\n",
              "           ([-1,  1, -1,  1, -1,  1,  1, -1, -1, -1], -174., 2, 0.1),\n",
              "           ([-1, -1,  1, -1,  1, -1,  1,  1, -1,  1], -334., 1, 0. ),\n",
              "           ([ 1, -1,  1,  1, -1,  1, -1,  1,  1,  1], -334., 1, 0. ),\n",
              "           ([-1,  1, -1,  1, -1,  1, -1,  1, -1, -1], -334., 1, 0. ),\n",
              "           ([-1, -1,  1,  1,  1, -1,  1,  1, -1, -1], -334., 1, 0. ),\n",
              "           ([ 1,  1, -1,  1, -1, -1, -1,  1,  1,  1], -334., 1, 0. ),\n",
              "           ([ 1,  1, -1,  1, -1,  1, -1, -1,  1, -1], -334., 1, 0. ),\n",
              "           ([-1,  1, -1, -1,  1,  1, -1, -1, -1,  1], -334., 2, 0. ),\n",
              "           ([-1, -1, -1,  1, -1, -1,  1,  1, -1,  1], -334., 3, 0. ),\n",
              "           ([ 1,  1, -1, -1,  1, -1, -1,  1, -1,  1], -334., 1, 0. ),\n",
              "           ([-1, -1, -1, -1, -1,  1,  1,  1,  1, -1], -334., 1, 0. ),\n",
              "           ([ 1, -1, -1,  1, -1, -1,  1,  1, -1, -1], -334., 2, 0. ),\n",
              "           ([-1,  1, -1,  1, -1,  1,  1,  1, -1, -1],  206., 1, 0.2),\n",
              "           ([ 1, -1,  1, -1,  1, -1, -1, -1,  1,  1],  206., 1, 0.2),\n",
              "           ([ 1,  1,  1, -1,  1, -1, -1, -1,  1,  1], -354., 1, 0.1),\n",
              "           ([-1, -1, -1,  1, -1,  1,  1,  1, -1, -1], -354., 1, 0.1),\n",
              "           ([-1,  1,  1, -1, -1,  1, -1, -1,  1, -1], -306., 1, 0. ),\n",
              "           ([-1,  1, -1,  1, -1, -1, -1, -1,  1,  1], -306., 1, 0. ),\n",
              "           ([-1,  1, -1, -1, -1,  1,  1,  1, -1, -1], -306., 1, 0. ),\n",
              "           ([-1,  1, -1, -1,  1, -1, -1,  1,  1, -1], -306., 1, 0. ),\n",
              "           ([ 1,  1,  1, -1,  1, -1, -1, -1,  1, -1], -306., 1, 0. ),\n",
              "           ([ 1,  1,  1, -1,  1,  1, -1, -1,  1, -1], -334., 1, 0.1),\n",
              "           ([-1, -1, -1,  1, -1, -1,  1,  1, -1,  1], -334., 1, 0.1),\n",
              "           ([-1,  1, -1,  1, -1, -1,  1,  1, -1, -1], -270., 1, 0.1),\n",
              "           ([-1, -1, -1,  1,  1, -1,  1,  1,  1,  1], -270., 1, 0. ),\n",
              "           ([-1, -1, -1,  1, -1, -1,  1,  1, -1, -1], -270., 3, 0. ),\n",
              "           ([-1, -1, -1, -1, -1,  1,  1,  1, -1, -1], -226., 1, 0.1),\n",
              "           ([ 1, -1,  1, -1,  1, -1, -1, -1,  1,  1],  206., 1, 0.2),\n",
              "           ([-1, -1, -1,  1, -1,  1,  1,  1, -1, -1], -354., 1, 0.1),\n",
              "           ([-1,  1, -1, -1, -1,  1,  1,  1, -1, -1], -306., 1, 0.1),\n",
              "           ([-1,  1, -1,  1,  1, -1, -1,  1,  1,  1], -226., 1, 0. )],\n",
              "          dtype=[('sample', 'i1', (10,)), ('energy', '<f8'), ('num_occurrences', '<i8'), ('chain_break_fraction', '<f8')])"
            ]
          },
          "metadata": {},
          "execution_count": 18
        }
      ]
    },
    {
      "cell_type": "code",
      "source": [
        "def calcurate_energy(solution, vartype='BINARY'):\n",
        "    if vartype == 'BINARY':\n",
        "        ene = sum(C) ** 2  # offset\n",
        "        for i in range(N):\n",
        "            ene += Q[i, i] * solution[i]\n",
        "            for j in range(i + 1, N):\n",
        "                ene += Q[i, j] * solution[i] * solution[j]\n",
        "    elif vartype == 'SPIN':\n",
        "        ene = sum(C[i] ** 2 for i in range(N))\n",
        "        for i in range(N):\n",
        "            for j in range(i + 1, N):\n",
        "                ene += J[i, j] * solution[i] * solution[j]\n",
        "    else:\n",
        "        raise ValueError(\"vartype mast be 'BINARY' or 'SPIN'.\")\n",
        "\n",
        "    return ene"
      ],
      "metadata": {
        "id": "Qnt98aww3_Na"
      },
      "execution_count": 19,
      "outputs": []
    },
    {
      "cell_type": "code",
      "source": [
        "# count the number of optimal solution\n",
        "num_optimal_sol = 0\n",
        "optimal_sol = []\n",
        "twenty_sol = []\n",
        "for state in response.record:\n",
        "    # 0th contains a list of state, 2nd contains the number of occurrences in .record\n",
        "    solution = state[0]\n",
        "    num_oc = state[2]\n",
        "    # compute energy\n",
        "    energy = calcurate_energy(solution, vartype='SPIN')\n",
        "    # count up the times when the energy is zero\n",
        "    if energy == 0.0:\n",
        "        num_optimal_sol += num_oc\n",
        "        optimal_sol.append(solution)\n",
        "    # preserve a result of 20 µs (we use later)\n",
        "    twenty_sol.append(solution)"
      ],
      "metadata": {
        "id": "Qxta3GTQ4H3K"
      },
      "execution_count": 20,
      "outputs": []
    },
    {
      "cell_type": "code",
      "source": [
        "num_optimal_sol"
      ],
      "metadata": {
        "colab": {
          "base_uri": "https://localhost:8080/"
        },
        "id": "T28YhRtd4Iox",
        "outputId": "e750d9e8-99d4-4f3c-c822-06a71fd21cad"
      },
      "execution_count": 21,
      "outputs": [
        {
          "output_type": "execute_result",
          "data": {
            "text/plain": [
              "10"
            ]
          },
          "metadata": {},
          "execution_count": 21
        }
      ]
    },
    {
      "cell_type": "code",
      "source": [
        "for solution in optimal_sol:\n",
        "    group_A = [C[i] for i, s in enumerate(solution) if s==1]\n",
        "    group_B = [C[i] for i, s in enumerate(solution) if s==-1]\n",
        "    print(solution)\n",
        "    print('Group A: ', group_A, ', Sum = ', sum(group_A))\n",
        "    print('Group B: ', group_B, ', Sum = ', sum(group_B))"
      ],
      "metadata": {
        "colab": {
          "base_uri": "https://localhost:8080/"
        },
        "id": "b-X-FzBn4Kel",
        "outputId": "81047d86-7f2e-4903-c926-0e5df395d1f9"
      },
      "execution_count": 22,
      "outputs": [
        {
          "output_type": "stream",
          "name": "stdout",
          "text": [
            "[ 1 -1 -1  1  1 -1  1 -1  1 -1]\n",
            "Group A:  [2, 8, 5, 9, 3] , Sum =  27\n",
            "Group B:  [10, 3, 7, 5, 2] , Sum =  27\n",
            "[-1 -1 -1  1  1 -1  1  1 -1 -1]\n",
            "Group A:  [8, 5, 9, 5] , Sum =  27\n",
            "Group B:  [2, 10, 3, 7, 3, 2] , Sum =  27\n",
            "[-1  1 -1 -1 -1 -1  1  1  1 -1]\n",
            "Group A:  [10, 9, 5, 3] , Sum =  27\n",
            "Group B:  [2, 3, 8, 5, 7, 2] , Sum =  27\n",
            "[-1  1  1 -1  1  1 -1 -1 -1  1]\n",
            "Group A:  [10, 3, 5, 7, 2] , Sum =  27\n",
            "Group B:  [2, 8, 9, 5, 3] , Sum =  27\n",
            "[-1 -1 -1  1 -1 -1  1  1  1  1]\n",
            "Group A:  [8, 9, 5, 3, 2] , Sum =  27\n",
            "Group B:  [2, 10, 3, 5, 7] , Sum =  27\n",
            "[ 1 -1  1  1 -1 -1  1  1 -1 -1]\n",
            "Group A:  [2, 3, 8, 9, 5] , Sum =  27\n",
            "Group B:  [10, 5, 7, 3, 2] , Sum =  27\n",
            "[ 1 -1 -1  1 -1 -1  1  1  1 -1]\n",
            "Group A:  [2, 8, 9, 5, 3] , Sum =  27\n",
            "Group B:  [10, 3, 5, 7, 2] , Sum =  27\n",
            "[-1 -1 -1  1 -1  1  1 -1  1 -1]\n",
            "Group A:  [8, 7, 9, 3] , Sum =  27\n",
            "Group B:  [2, 10, 3, 5, 5, 2] , Sum =  27\n",
            "[ 1  1 -1 -1  1  1 -1 -1  1 -1]\n",
            "Group A:  [2, 10, 5, 7, 3] , Sum =  27\n",
            "Group B:  [3, 8, 9, 5, 2] , Sum =  27\n",
            "[ 1  1 -1  1  1 -1 -1 -1 -1  1]\n",
            "Group A:  [2, 10, 8, 5, 2] , Sum =  27\n",
            "Group B:  [3, 7, 9, 5, 3] , Sum =  27\n"
          ]
        }
      ]
    },
    {
      "cell_type": "code",
      "source": [
        "response.data_vectors"
      ],
      "metadata": {
        "colab": {
          "base_uri": "https://localhost:8080/"
        },
        "id": "d_oXu_6G4O3P",
        "outputId": "f69e9d72-8886-4214-a3d1-f6274f11b865"
      },
      "execution_count": 23,
      "outputs": [
        {
          "output_type": "execute_result",
          "data": {
            "text/plain": [
              "{'energy': array([-354., -306., -366., -270., -334., -370., -370., -370., -370.,\n",
              "        -370., -370., -370., -370., -370., -370., -366., -366., -366.,\n",
              "        -366., -366., -366., -366., -366., -366., -366., -366., -366.,\n",
              "        -366., -366.,  206., -354., -354., -354., -354., -354., -354.,\n",
              "        -354., -354., -354., -354., -354., -354., -354., -354., -354.,\n",
              "        -354., -354., -306., -306., -174., -334., -334., -334., -334.,\n",
              "        -334., -334., -334., -334., -334., -334., -334.,  206.,  206.,\n",
              "        -354., -354., -306., -306., -306., -306., -306., -334., -334.,\n",
              "        -270., -270., -270., -226.,  206., -354., -306., -226.]),\n",
              " 'num_occurrences': array([2, 1, 3, 1, 1, 1, 1, 1, 1, 1, 1, 1, 1, 1, 1, 1, 1, 1, 2, 1, 1, 2,\n",
              "        2, 1, 1, 1, 2, 2, 1, 2, 1, 1, 2, 1, 1, 1, 1, 1, 1, 1, 1, 1, 1, 1,\n",
              "        1, 1, 2, 3, 1, 2, 1, 1, 1, 1, 1, 1, 2, 3, 1, 1, 2, 1, 1, 1, 1, 1,\n",
              "        1, 1, 1, 1, 1, 1, 1, 1, 3, 1, 1, 1, 1, 1]),\n",
              " 'chain_break_fraction': array([0.1, 0.1, 0.1, 0.1, 0.1, 0. , 0. , 0. , 0. , 0. , 0. , 0. , 0. ,\n",
              "        0. , 0. , 0. , 0. , 0. , 0. , 0. , 0. , 0. , 0. , 0. , 0. , 0. ,\n",
              "        0. , 0. , 0. , 0.1, 0. , 0. , 0. , 0. , 0. , 0. , 0. , 0. , 0. ,\n",
              "        0. , 0. , 0. , 0. , 0. , 0. , 0. , 0. , 0.1, 0.1, 0.1, 0. , 0. ,\n",
              "        0. , 0. , 0. , 0. , 0. , 0. , 0. , 0. , 0. , 0.2, 0.2, 0.1, 0.1,\n",
              "        0. , 0. , 0. , 0. , 0. , 0.1, 0.1, 0.1, 0. , 0. , 0.1, 0.2, 0.1,\n",
              "        0.1, 0. ])}"
            ]
          },
          "metadata": {},
          "execution_count": 23
        }
      ]
    },
    {
      "cell_type": "code",
      "source": [
        "response.info"
      ],
      "metadata": {
        "colab": {
          "base_uri": "https://localhost:8080/"
        },
        "id": "EnMFsme-4PpL",
        "outputId": "0a48d633-6799-4cde-effa-db031d9d69df"
      },
      "execution_count": 24,
      "outputs": [
        {
          "output_type": "execute_result",
          "data": {
            "text/plain": [
              "{'timing': {'qpu_sampling_time': 23894.0,\n",
              "  'qpu_anneal_time_per_sample': 20.0,\n",
              "  'qpu_readout_time_per_sample': 198.4,\n",
              "  'qpu_access_time': 34685.1,\n",
              "  'qpu_access_overhead_time': 1445.9,\n",
              "  'qpu_programming_time': 10791.1,\n",
              "  'qpu_delay_time_per_sample': 20.54,\n",
              "  'post_processing_overhead_time': 978.0,\n",
              "  'total_post_processing_time': 978.0},\n",
              " 'problem_id': '5c68de9c-987f-48a9-bb6c-0f0e07055d48'}"
            ]
          },
          "metadata": {},
          "execution_count": 24
        }
      ]
    },
    {
      "cell_type": "code",
      "source": [
        "# in the case of ising model, use the following\n",
        "response = sampler.sample_ising(h, J, num_reads=1000)\n",
        "\n",
        "# in the case of QUBO, use the following\n",
        "# response = sampler.sample_qubo(Q, num_reads=1000)"
      ],
      "metadata": {
        "id": "VvOvdl8Z4TuQ"
      },
      "execution_count": 25,
      "outputs": []
    },
    {
      "cell_type": "code",
      "source": [
        "# count up the number of occurrences of optimal solution\n",
        "num_optimal_sol = 0\n",
        "optimal_sol = []\n",
        "for state in response.record:\n",
        "    # 0th is a list of states, 2nd is the number of occurrence in .record\n",
        "    solution = state[0]\n",
        "    num_oc = state[2]\n",
        "    # compute energy\n",
        "    energy = calcurate_energy(solution, vartype='SPIN')\n",
        "    # count up the times when the energy is zero\n",
        "    if energy == 0.0:\n",
        "        num_optimal_sol += num_oc\n",
        "        optimal_sol.append(solution)"
      ],
      "metadata": {
        "id": "1HhVJtID4Uoc"
      },
      "execution_count": 26,
      "outputs": []
    },
    {
      "cell_type": "code",
      "source": [
        "num_optimal_sol"
      ],
      "metadata": {
        "colab": {
          "base_uri": "https://localhost:8080/"
        },
        "id": "x3ZjaVYT4WYl",
        "outputId": "227d60ec-0e06-42c3-f406-fdbe4baa37b7"
      },
      "execution_count": 27,
      "outputs": [
        {
          "output_type": "execute_result",
          "data": {
            "text/plain": [
              "136"
            ]
          },
          "metadata": {},
          "execution_count": 27
        }
      ]
    },
    {
      "cell_type": "code",
      "source": [
        "response.info"
      ],
      "metadata": {
        "colab": {
          "base_uri": "https://localhost:8080/"
        },
        "id": "WbGNoF504YFf",
        "outputId": "e34f5c26-9cc3-47cf-db1b-d70bcb9ce87e"
      },
      "execution_count": 28,
      "outputs": [
        {
          "output_type": "execute_result",
          "data": {
            "text/plain": [
              "{'timing': {'qpu_sampling_time': 238940.0,\n",
              "  'qpu_anneal_time_per_sample': 20.0,\n",
              "  'qpu_readout_time_per_sample': 198.4,\n",
              "  'qpu_access_time': 249731.9,\n",
              "  'qpu_access_overhead_time': 1749.1,\n",
              "  'qpu_programming_time': 10791.9,\n",
              "  'qpu_delay_time_per_sample': 20.54,\n",
              "  'post_processing_overhead_time': 3916.0,\n",
              "  'total_post_processing_time': 3916.0},\n",
              " 'problem_id': 'f52a50bf-ff6f-44cb-9309-b5cdf23ee213'}"
            ]
          },
          "metadata": {},
          "execution_count": 28
        }
      ]
    },
    {
      "cell_type": "code",
      "source": [
        "# In the case of ising model, use the following\n",
        "response = sampler.sample_ising(h, J, num_reads=100, annealing_time=50)\n",
        "\n",
        "# In the case of QUBO, use the following\n",
        "# response = sampler.sample_qubo(Q, num_reads=100, annealing_time=50)"
      ],
      "metadata": {
        "id": "zj90tTVn4ZwX"
      },
      "execution_count": 29,
      "outputs": []
    },
    {
      "cell_type": "code",
      "source": [
        "# count up the number of times the optimal solution was found\n",
        "num_optimal_sol = 0\n",
        "optimal_sol = []\n",
        "fifty_sol = []\n",
        "for state in response.record:\n",
        "    # 0th contains a list of states, 2nd contains the number of occurrences of states in .record\n",
        "    solution = state[0]\n",
        "    num_oc = state[2]\n",
        "    # compute energy\n",
        "    energy = calcurate_energy(solution, vartype='SPIN')\n",
        "    # count up when the energy is 0\n",
        "    if energy == 0.0:\n",
        "        num_optimal_sol += num_oc\n",
        "        optimal_sol.append(solution)\n",
        "    # preserve a result of 50µs\n",
        "    fifty_sol.append(solution)"
      ],
      "metadata": {
        "id": "RdPbv2iQ4cfO"
      },
      "execution_count": 30,
      "outputs": []
    },
    {
      "cell_type": "code",
      "source": [
        "num_optimal_sol"
      ],
      "metadata": {
        "colab": {
          "base_uri": "https://localhost:8080/"
        },
        "id": "5_pUHY2m4eT_",
        "outputId": "cc3b91f9-08ce-4fdc-bbb5-614c036b8e4c"
      },
      "execution_count": 31,
      "outputs": [
        {
          "output_type": "execute_result",
          "data": {
            "text/plain": [
              "11"
            ]
          },
          "metadata": {},
          "execution_count": 31
        }
      ]
    },
    {
      "cell_type": "code",
      "source": [
        "plt.hist([calcurate_energy(solution, vartype='SPIN') for solution in twenty_sol], alpha=0.5, label='20μs')\n",
        "plt.hist([calcurate_energy(solution, vartype='SPIN') for solution in fifty_sol], alpha=0.5, label='50μs')\n",
        "plt.xlabel('Energy')\n",
        "plt.ylabel('Frequency')\n",
        "plt.legend()\n",
        "plt.show()"
      ],
      "metadata": {
        "colab": {
          "base_uri": "https://localhost:8080/",
          "height": 279
        },
        "id": "ZB8y-gXE4f_L",
        "outputId": "116d1901-e01d-4bf4-9d60-db695c7bc6c8"
      },
      "execution_count": 32,
      "outputs": [
        {
          "output_type": "display_data",
          "data": {
            "text/plain": [
              "<Figure size 432x288 with 1 Axes>"
            ],
            "image/png": "[encoded data removed]"
          },
          "metadata": {
            "needs_background": "light"
          }
        }
      ]
    }
  ]
}
